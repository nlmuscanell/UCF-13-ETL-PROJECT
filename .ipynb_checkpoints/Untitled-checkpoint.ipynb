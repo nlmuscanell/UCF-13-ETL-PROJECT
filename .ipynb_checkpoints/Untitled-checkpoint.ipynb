{
 "cells": [
  {
   "cell_type": "code",
   "execution_count": 1,
   "metadata": {},
   "outputs": [],
   "source": [
    "# Python SQL toolkit and Object Relational Mapper\n",
    "import sqlalchemy\n",
    "from sqlalchemy.ext.automap import automap_base\n",
    "from sqlalchemy.orm import Session\n",
    "from sqlalchemy import create_engine, func\n",
    "from sqlalchemy import create_engine, inspect\n",
    "import pandas as pd"
   ]
  },
  {
   "cell_type": "code",
   "execution_count": 2,
   "metadata": {},
   "outputs": [],
   "source": [
    "# Create the engine\n",
    "engine = create_engine(\"sqlite:///Resources/fastfood_nutritional_info.db\")"
   ]
  },
  {
   "cell_type": "code",
   "execution_count": 3,
   "metadata": {},
   "outputs": [],
   "source": [
    "# reflect an existing database into a new model\n",
    "Base = automap_base()\n",
    "\n",
    "# reflect the tables\n",
    "Base.prepare(engine, reflect=True)"
   ]
  },
  {
   "cell_type": "code",
   "execution_count": 4,
   "metadata": {},
   "outputs": [
    {
     "data": {
      "text/plain": [
       "['categories', 'items', 'nutrition', 'restaurants']"
      ]
     },
     "execution_count": 4,
     "metadata": {},
     "output_type": "execute_result"
    }
   ],
   "source": [
    "# We can view all of the classes that automap found\n",
    "Base.classes.keys()"
   ]
  },
  {
   "cell_type": "code",
   "execution_count": 5,
   "metadata": {},
   "outputs": [],
   "source": [
    "#Save references to each table\n",
    "\n",
    "Categories = Base.classes.categories\n",
    "Items = Base.classes.items\n",
    "Restaurants = Base.classes.restaurants\n",
    "Nutrition = Base.classes.nutrition"
   ]
  },
  {
   "cell_type": "code",
   "execution_count": 6,
   "metadata": {},
   "outputs": [],
   "source": [
    "# Create a session\n",
    "\n",
    "session = Session(engine)"
   ]
  },
  {
   "cell_type": "code",
   "execution_count": 7,
   "metadata": {},
   "outputs": [],
   "source": [
    "# Create a inspector\n",
    "\n",
    "inspector = inspect(engine)"
   ]
  },
  {
   "cell_type": "code",
   "execution_count": 8,
   "metadata": {},
   "outputs": [
    {
     "name": "stdout",
     "output_type": "stream",
     "text": [
      "restaurant_id INTEGER\n",
      "category_id INTEGER\n",
      "item_id INTEGER\n",
      "serving_size_oz INTEGER\n",
      "calories INTEGER\n",
      "calories_from_fat INTEGER\n",
      "total_fat_g INTEGER\n",
      "total_fat_%_dv INTEGER\n",
      "saturated_fat_g INTEGER\n",
      "saturated_fat_%_dv INTEGER\n",
      "trans_fat_g INTEGER\n",
      "cholesterol_mg INTEGER\n",
      "cholesterol_%_dv INTEGER\n",
      "sodium_mg INTEGER\n",
      "sodium_%_dv INTEGER\n",
      "carbohydrates_g INTEGER\n",
      "carbohydrates_%_dv INTEGER\n",
      "dietary_fiber_g INTEGER\n",
      "dietary_fiber_% _dv INTEGER\n",
      "sugars_g INTEGER\n",
      "protein_g INTEGER\n",
      "vitamin_a_%_dv INTEGER\n",
      "vitamin_c_%_dv INTEGER\n",
      "calcium_%_dv INTEGER\n",
      "iron_%_dv INTEGER\n"
     ]
    }
   ],
   "source": [
    "Nutrition_columns = inspector.get_columns('Nutrition')\n",
    "for column in Nutrition_columns:\n",
    "    print(column['name'], column[\"type\"])"
   ]
  },
  {
   "cell_type": "code",
   "execution_count": 9,
   "metadata": {},
   "outputs": [
    {
     "name": "stdout",
     "output_type": "stream",
     "text": [
      "id INTEGER\n",
      "name TEXT\n"
     ]
    }
   ],
   "source": [
    "Restaurants_columns = inspector.get_columns('Restaurants')\n",
    "for column in Restaurants_columns:\n",
    "    print(column['name'], column[\"type\"])"
   ]
  },
  {
   "cell_type": "code",
   "execution_count": 10,
   "metadata": {},
   "outputs": [
    {
     "name": "stdout",
     "output_type": "stream",
     "text": [
      "category_name TEXT\n",
      "id INTEGER\n"
     ]
    }
   ],
   "source": [
    "Categories_columns = inspector.get_columns('Categories')\n",
    "for column in Categories_columns:\n",
    "    print(column['name'], column[\"type\"])"
   ]
  },
  {
   "cell_type": "code",
   "execution_count": 11,
   "metadata": {},
   "outputs": [
    {
     "name": "stdout",
     "output_type": "stream",
     "text": [
      "item_name TEXT\n",
      "id INTEGER\n"
     ]
    }
   ],
   "source": [
    "Items_columns = inspector.get_columns('Items')\n",
    "for column in Items_columns:\n",
    "    print(column['name'], column[\"type\"])"
   ]
  },
  {
   "cell_type": "markdown",
   "metadata": {},
   "source": [
    "# Queries"
   ]
  },
  {
   "cell_type": "markdown",
   "metadata": {},
   "source": [
    "### What is the category with more items?"
   ]
  },
  {
   "cell_type": "code",
   "execution_count": 12,
   "metadata": {},
   "outputs": [
    {
     "data": {
      "text/plain": [
       "(749)"
      ]
     },
     "execution_count": 12,
     "metadata": {},
     "output_type": "execute_result"
    }
   ],
   "source": [
    "item_test = session.query(Nutrition.item_id).order_by(Nutrition.item_id.desc()).first()\n",
    "item_test"
   ]
  },
  {
   "cell_type": "code",
   "execution_count": 20,
   "metadata": {},
   "outputs": [
    {
     "data": {
      "text/plain": [
       "[(100, 98),\n",
       " (107, 95),\n",
       " (121, 58),\n",
       " (123, 52),\n",
       " (122, 40),\n",
       " (130, 36),\n",
       " (126, 36),\n",
       " (109, 31),\n",
       " (108, 28),\n",
       " (106, 27),\n",
       " (102, 27),\n",
       " (129, 25),\n",
       " (112, 20),\n",
       " (124, 18),\n",
       " (110, 18),\n",
       " (113, 15),\n",
       " (101, 15),\n",
       " (128, 13),\n",
       " (111, 13),\n",
       " (104, 13),\n",
       " (127, 12),\n",
       " (116, 12),\n",
       " (117, 10),\n",
       " (125, 9),\n",
       " (114, 7),\n",
       " (105, 7),\n",
       " (103, 6),\n",
       " (120, 4),\n",
       " (115, 3),\n",
       " (119, 1),\n",
       " (118, 1)]"
      ]
     },
     "execution_count": 20,
     "metadata": {},
     "output_type": "execute_result"
    }
   ],
   "source": [
    "#count_total = func.count(nutritional_info.category_id)\n",
    "category_counts = session.query(Nutrition.category_id, func.count(Nutrition.category_id)).\\\n",
    "    group_by(Nutrition.category_id).\\\n",
    "    order_by(func.count(Nutrition.category_id).desc()).all()\n",
    "\n",
    "category_counts"
   ]
  },
  {
   "cell_type": "markdown",
   "metadata": {},
   "source": [
    "### What are the breakfasts with the most calories?"
   ]
  },
  {
   "cell_type": "code",
   "execution_count": 14,
   "metadata": {},
   "outputs": [
    {
     "data": {
      "text/plain": [
       "(3000)"
      ]
     },
     "execution_count": 14,
     "metadata": {},
     "output_type": "execute_result"
    }
   ],
   "source": [
    "restaurants_test = session.query(Restaurants.id).order_by(Restaurants.id.desc()).first()\n",
    "restaurants_test"
   ]
  },
  {
   "cell_type": "code",
   "execution_count": 15,
   "metadata": {},
   "outputs": [
    {
     "data": {
      "text/plain": [
       "(130)"
      ]
     },
     "execution_count": 15,
     "metadata": {},
     "output_type": "execute_result"
    }
   ],
   "source": [
    "categories_test = session.query(Categories.id).order_by(Categories.id.desc()).first()\n",
    "categories_test"
   ]
  },
  {
   "cell_type": "code",
   "execution_count": 17,
   "metadata": {},
   "outputs": [
    {
     "ename": "AttributeError",
     "evalue": "'function' object has no attribute 'id'",
     "output_type": "error",
     "traceback": [
      "\u001b[0;31m---------------------------------------------------------------------------\u001b[0m",
      "\u001b[0;31mAttributeError\u001b[0m                            Traceback (most recent call last)",
      "\u001b[0;32m<ipython-input-17-b9cc5acea8e0>\u001b[0m in \u001b[0;36m<module>\u001b[0;34m\u001b[0m\n\u001b[0;32m----> 1\u001b[0;31m \u001b[0mItems_test\u001b[0m \u001b[0;34m=\u001b[0m \u001b[0msession\u001b[0m\u001b[0;34m.\u001b[0m\u001b[0mquery\u001b[0m\u001b[0;34m(\u001b[0m\u001b[0mItems\u001b[0m\u001b[0;34m.\u001b[0m\u001b[0mid\u001b[0m\u001b[0;34m)\u001b[0m\u001b[0;34m.\u001b[0m\u001b[0morder_by\u001b[0m\u001b[0;34m(\u001b[0m\u001b[0mItems\u001b[0m\u001b[0;34m.\u001b[0m\u001b[0mid\u001b[0m\u001b[0;34m.\u001b[0m\u001b[0mdesc\u001b[0m\u001b[0;34m(\u001b[0m\u001b[0;34m)\u001b[0m\u001b[0;34m)\u001b[0m\u001b[0;34m.\u001b[0m\u001b[0mfirst\u001b[0m\u001b[0;34m(\u001b[0m\u001b[0;34m)\u001b[0m\u001b[0;34m\u001b[0m\u001b[0;34m\u001b[0m\u001b[0m\n\u001b[0m\u001b[1;32m      2\u001b[0m \u001b[0mItems_test\u001b[0m\u001b[0;34m\u001b[0m\u001b[0;34m\u001b[0m\u001b[0m\n",
      "\u001b[0;31mAttributeError\u001b[0m: 'function' object has no attribute 'id'"
     ]
    }
   ],
   "source": [
    "Items_test = session.query(Items.id).order_by(Items.id.desc()).first()\n",
    "Items_test"
   ]
  },
  {
   "cell_type": "code",
   "execution_count": 18,
   "metadata": {},
   "outputs": [
    {
     "ename": "AttributeError",
     "evalue": "'function' object has no attribute 'item_name'",
     "output_type": "error",
     "traceback": [
      "\u001b[0;31m---------------------------------------------------------------------------\u001b[0m",
      "\u001b[0;31mAttributeError\u001b[0m                            Traceback (most recent call last)",
      "\u001b[0;32m<ipython-input-18-51b5a5bfbcc5>\u001b[0m in \u001b[0;36m<module>\u001b[0;34m\u001b[0m\n\u001b[0;32m----> 1\u001b[0;31m \u001b[0mItems_test\u001b[0m \u001b[0;34m=\u001b[0m \u001b[0msession\u001b[0m\u001b[0;34m.\u001b[0m\u001b[0mquery\u001b[0m\u001b[0;34m(\u001b[0m\u001b[0mItems\u001b[0m\u001b[0;34m.\u001b[0m\u001b[0mitem_name\u001b[0m\u001b[0;34m)\u001b[0m\u001b[0;34m.\u001b[0m\u001b[0morder_by\u001b[0m\u001b[0;34m(\u001b[0m\u001b[0mItems\u001b[0m\u001b[0;34m.\u001b[0m\u001b[0mitem_name\u001b[0m\u001b[0;34m.\u001b[0m\u001b[0mdesc\u001b[0m\u001b[0;34m(\u001b[0m\u001b[0;34m)\u001b[0m\u001b[0;34m)\u001b[0m\u001b[0;34m.\u001b[0m\u001b[0mfirst\u001b[0m\u001b[0;34m(\u001b[0m\u001b[0;34m)\u001b[0m\u001b[0;34m\u001b[0m\u001b[0;34m\u001b[0m\u001b[0m\n\u001b[0m\u001b[1;32m      2\u001b[0m \u001b[0mItems_test\u001b[0m\u001b[0;34m\u001b[0m\u001b[0;34m\u001b[0m\u001b[0m\n",
      "\u001b[0;31mAttributeError\u001b[0m: 'function' object has no attribute 'item_name'"
     ]
    }
   ],
   "source": [
    "Items_test = session.query(Items.item_name).order_by(Items.item_name.desc()).first()\n",
    "Items_test"
   ]
  },
  {
   "cell_type": "code",
   "execution_count": null,
   "metadata": {},
   "outputs": [],
   "source": [
    "# Find the breakfast with more than 400 calories in the restaurant menu\n",
    "\n",
    "#sel = (Restaurants.name, Nutrition.calories)\n",
    "calories = session.query(Items.item_name.filter(Nutrition.calories > '400').\\\n",
    "group_by(Items.item_name).\\\n",
    "order_by(Nutrition.calories > '400').desc().all()\n",
    "\n",
    "breakfast_calories"
   ]
  },
  {
   "cell_type": "code",
   "execution_count": null,
   "metadata": {},
   "outputs": [],
   "source": [
    "# Display the query results\n",
    "print(\"These are the breaskfast with the most calories:\")\n",
    "\n",
    "for item_info in breakfast_calories:\n",
    "    (restaurant, item, total_calories) = item_info\n",
    "    print(f\"The breakfast {item} from {restaurant} has {total_calories} in total\".)"
   ]
  }
 ],
 "metadata": {
  "kernelspec": {
   "display_name": "Python [conda env:PythonData] *",
   "language": "python",
   "name": "conda-env-PythonData-py"
  },
  "language_info": {
   "codemirror_mode": {
    "name": "ipython",
    "version": 3
   },
   "file_extension": ".py",
   "mimetype": "text/x-python",
   "name": "python",
   "nbconvert_exporter": "python",
   "pygments_lexer": "ipython3",
   "version": "3.6.10"
  }
 },
 "nbformat": 4,
 "nbformat_minor": 4
}
